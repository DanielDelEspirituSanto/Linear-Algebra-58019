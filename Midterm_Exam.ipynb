{
  "nbformat": 4,
  "nbformat_minor": 0,
  "metadata": {
    "colab": {
      "name": "Midterm Exam",
      "provenance": [],
      "authorship_tag": "ABX9TyNC9Z3hfw3NYLn8pcUoC0eu",
      "include_colab_link": true
    },
    "kernelspec": {
      "name": "python3",
      "display_name": "Python 3"
    },
    "language_info": {
      "name": "python"
    }
  },
  "cells": [
    {
      "cell_type": "markdown",
      "metadata": {
        "id": "view-in-github",
        "colab_type": "text"
      },
      "source": [
        "<a href=\"https://colab.research.google.com/github/dnldes/Linear-Algebra-58019/blob/main/Midterm_Exam.ipynb\" target=\"_parent\"><img src=\"https://colab.research.google.com/assets/colab-badge.svg\" alt=\"Open In Colab\"/></a>"
      ]
    },
    {
      "cell_type": "markdown",
      "metadata": {
        "id": "2APC-Acb4oQZ"
      },
      "source": [
        "###Question 1. Create a Python code that displays a square matrix whose length is 5 (10 points)"
      ]
    },
    {
      "cell_type": "code",
      "metadata": {
        "id": "A4yyJ4pE4jnB",
        "colab": {
          "base_uri": "https://localhost:8080/"
        },
        "outputId": "ef317b2b-dd3f-4c56-e558-c8e7a799714c"
      },
      "source": [
        "import numpy as np       #library numpy for the process of solving arrays\n",
        "\n",
        "L5 = np.zeros((5,5))     #creates a 5x5 array containing zeroes(0)\n",
        "print(L5)"
      ],
      "execution_count": 5,
      "outputs": [
        {
          "output_type": "stream",
          "name": "stdout",
          "text": [
            "[[0. 0. 0. 0. 0.]\n",
            " [0. 0. 0. 0. 0.]\n",
            " [0. 0. 0. 0. 0.]\n",
            " [0. 0. 0. 0. 0.]\n",
            " [0. 0. 0. 0. 0.]]\n"
          ]
        }
      ]
    },
    {
      "cell_type": "markdown",
      "metadata": {
        "id": "NtgUPJ-34o73"
      },
      "source": [
        "###Question 2. Create a Python code that displays a square matrix whose elements below the principal diagonal are zero (10 points)"
      ]
    },
    {
      "cell_type": "code",
      "metadata": {
        "id": "MOWMHc4s4pN7",
        "colab": {
          "base_uri": "https://localhost:8080/"
        },
        "outputId": "72718c12-5f63-45fc-e9e5-ebe63b28bfa2"
      },
      "source": [
        "Q2 = np.array([[1,1,1],[0,1,1],[0,0,1]]) \n",
        "diagonal = np.triu(Q2) #code to get the values from the upper triangle\n",
        "print(diagonal)"
      ],
      "execution_count": 68,
      "outputs": [
        {
          "output_type": "stream",
          "name": "stdout",
          "text": [
            "[[1 1 1]\n",
            " [0 1 1]\n",
            " [0 0 1]]\n"
          ]
        }
      ]
    },
    {
      "cell_type": "markdown",
      "metadata": {
        "id": "kjW3afBC4vQ7"
      },
      "source": [
        "###Question 3. Create a Python code that displays a square matrix which is symmetrical (10 points)"
      ]
    },
    {
      "cell_type": "code",
      "metadata": {
        "id": "i8h43JPO4xzr",
        "colab": {
          "base_uri": "https://localhost:8080/"
        },
        "outputId": "cae25a89-968c-4cd5-fae1-e046e72e2ad0"
      },
      "source": [
        "Default = np.array([[0,1,2],[3,4,5],[6,7,8]])\n",
        "print(Default)\n",
        "print(\"------------------\")\n",
        "Symmetric = np.transpose(Default)\n",
        "print(Symmetric)"
      ],
      "execution_count": 61,
      "outputs": [
        {
          "output_type": "stream",
          "name": "stdout",
          "text": [
            "[[0 1 2]\n",
            " [3 4 5]\n",
            " [6 7 8]]\n",
            "------------------\n",
            "[[0 3 6]\n",
            " [1 4 7]\n",
            " [2 5 8]]\n"
          ]
        }
      ]
    },
    {
      "cell_type": "markdown",
      "metadata": {
        "id": "aeWfGche4yE1"
      },
      "source": [
        "###Question 4. What is the inverse of matrix C? Show your solution by python coding. (20 points)"
      ]
    },
    {
      "cell_type": "code",
      "metadata": {
        "id": "xx2KLqGc44vi",
        "colab": {
          "base_uri": "https://localhost:8080/"
        },
        "outputId": "b738108d-e6df-4350-8e10-fe03d7c9e578"
      },
      "source": [
        "C = np.array([[1,2,3],[2,3,3],[3,4,-2]]) #variable C is declared for the matrix\n",
        "inv_C = np.linalg.inv(C)                 #function to compute the inverse of the matrix C\n",
        "print(inv_C)"
      ],
      "execution_count": 18,
      "outputs": [
        {
          "output_type": "stream",
          "name": "stdout",
          "text": [
            "[[-3.6  3.2 -0.6]\n",
            " [ 2.6 -2.2  0.6]\n",
            " [-0.2  0.4 -0.2]]\n"
          ]
        }
      ]
    },
    {
      "cell_type": "markdown",
      "metadata": {
        "id": "PlmMNdG746jz"
      },
      "source": [
        "###Question 5. What is the determinant of the given matrix in Question 4? Show your solution by python coding. (20 points)"
      ]
    },
    {
      "cell_type": "code",
      "metadata": {
        "id": "UMyibuvN461Z",
        "colab": {
          "base_uri": "https://localhost:8080/"
        },
        "outputId": "f8baa917-932c-4d1a-afd5-ca21711052c1"
      },
      "source": [
        "D = np.array([[1,2,3],[2,3,3],[3,4,-2]])\n",
        "print(D)\n",
        "print()\n",
        "\n",
        "print(round(np.linalg.det(D)))"
      ],
      "execution_count": 16,
      "outputs": [
        {
          "output_type": "stream",
          "name": "stdout",
          "text": [
            "[[ 1  2  3]\n",
            " [ 2  3  3]\n",
            " [ 3  4 -2]]\n",
            "\n",
            "5\n"
          ]
        }
      ]
    },
    {
      "cell_type": "markdown",
      "metadata": {
        "id": "NdXeAdNU49P2"
      },
      "source": [
        "###Question 6. Find the roots of the linear equations by showing its python codes (30 points)"
      ]
    },
    {
      "cell_type": "code",
      "metadata": {
        "id": "yEXNqbgl4_gx",
        "colab": {
          "base_uri": "https://localhost:8080/"
        },
        "outputId": "cb35f4fa-913f-4dfe-cf9d-74a35bd9eb94"
      },
      "source": [
        "print(\"given: \")\n",
        "print(\"5X1 + 4X2 + X3 = 3.4\")\n",
        "print(\"10X1 + 9X2 + 4X3 = 8.8\")\n",
        "print(\"10X1 + 13X2 + 15X3 = 19.2\")\n",
        "print()\n",
        "\n",
        "print(\"Find the roots X\")\n",
        "print(\"------------------\")\n",
        "#create arrays\n",
        "A = np.array([[5,4,1],[10,9,4],[10,13,15]])\n",
        "Answers = np.array([[3.4],[8.8],[19.2]])\n",
        "print(A)\n",
        "print(\"------------------\")\n",
        "print(Answers)\n",
        "print(\"------------------\")\n",
        "print(\"Inverse of A\")\n",
        "inv_A = np.linalg.inv(A)\n",
        "print(inv_A)\n",
        "print(\"------------------\")\n",
        "print(\"Get the dot product of inv_A and Answers to find the roots\")\n",
        "print(\"------------------\")\n",
        "\n",
        "\n",
        "#code to find the roots\n",
        "FRLE = inv_A.dot(Answers)\n",
        "print(\"These are the roots of 'X' \")\n",
        "print(FRLE)\n",
        "\n",
        "#proving\n",
        "print(\"To prove roots of X are correct\")\n",
        "#input the roots to all \"x\" variables\n",
        "\n",
        "X1 = 0.2 \n",
        "X2 = 0.4 \n",
        "X3 = 0.8\n",
        "\n",
        "print(5*X1 + 4*X2 + X3)\n",
        "print(10*X1 + 9*X2 + 4*X3)\n",
        "print(10*X1 + 13*X2 + 15*X3)"
      ],
      "execution_count": 59,
      "outputs": [
        {
          "output_type": "stream",
          "name": "stdout",
          "text": [
            "given: \n",
            "5X1 + 4X2 + X3 = 3.4\n",
            "10X1 + 9X2 + 4X3 = 8.8\n",
            "10X1 + 13X2 + 15X3 = 19.2\n",
            "\n",
            "Find the roots X\n",
            "------------------\n",
            "[[ 5  4  1]\n",
            " [10  9  4]\n",
            " [10 13 15]]\n",
            "------------------\n",
            "[[ 3.4]\n",
            " [ 8.8]\n",
            " [19.2]]\n",
            "------------------\n",
            "Inverse of A\n",
            "[[ 5.53333333 -3.13333333  0.46666667]\n",
            " [-7.33333333  4.33333333 -0.66666667]\n",
            " [ 2.66666667 -1.66666667  0.33333333]]\n",
            "------------------\n",
            "Get the dot product of inv_A and Answers to find the roots\n",
            "------------------\n",
            "These are the roots of 'X' \n",
            "[[0.2]\n",
            " [0.4]\n",
            " [0.8]]\n",
            "To prove roots of X are correct\n",
            "3.4000000000000004\n",
            "8.8\n",
            "19.2\n"
          ]
        }
      ]
    }
  ]
}
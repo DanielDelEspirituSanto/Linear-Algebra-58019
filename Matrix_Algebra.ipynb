{
  "nbformat": 4,
  "nbformat_minor": 0,
  "metadata": {
    "colab": {
      "name": "Matrix Algebra.ipynb",
      "provenance": [],
      "authorship_tag": "ABX9TyNE9O5V+bb28Vr8PIHIZ8Pz",
      "include_colab_link": true
    },
    "kernelspec": {
      "name": "python3",
      "display_name": "Python 3"
    },
    "language_info": {
      "name": "python"
    }
  },
  "cells": [
    {
      "cell_type": "markdown",
      "metadata": {
        "id": "view-in-github",
        "colab_type": "text"
      },
      "source": [
        "<a href=\"https://colab.research.google.com/github/dnldes/Linear-Algebra-58019/blob/main/Matrix_Algebra.ipynb\" target=\"_parent\"><img src=\"https://colab.research.google.com/assets/colab-badge.svg\" alt=\"Open In Colab\"/></a>"
      ]
    },
    {
      "cell_type": "markdown",
      "metadata": {
        "id": "-rPT0va6zXHf"
      },
      "source": [
        ""
      ]
    },
    {
      "cell_type": "markdown",
      "metadata": {
        "id": "eKo2XvqczaGg"
      },
      "source": [
        "##Python program to inverse"
      ]
    },
    {
      "cell_type": "code",
      "metadata": {
        "colab": {
          "base_uri": "https://localhost:8080/"
        },
        "id": "AERP7RyKzWss",
        "outputId": "323b0955-4397-4efb-9cb6-efbcb97ac045"
      },
      "source": [
        "import numpy as np\n",
        "\n",
        "C = np.array([[1,2],[4,7]])\n",
        "\n",
        "invC = (np.linalg.inv(C))\n",
        "print(invC)"
      ],
      "execution_count": null,
      "outputs": [
        {
          "output_type": "stream",
          "name": "stdout",
          "text": [
            "[[-7.  2.]\n",
            " [ 4. -1.]]\n"
          ]
        }
      ]
    },
    {
      "cell_type": "code",
      "metadata": {
        "colab": {
          "base_uri": "https://localhost:8080/"
        },
        "id": "IYB6nCwX3ph_",
        "outputId": "411582f3-d120-467b-bc16-551fde5597b0"
      },
      "source": [
        "DT = np.dot(A,invC)\n",
        "print(C)"
      ],
      "execution_count": null,
      "outputs": [
        {
          "output_type": "stream",
          "name": "stdout",
          "text": [
            "[[1 2]\n",
            " [4 7]]\n"
          ]
        }
      ]
    },
    {
      "cell_type": "code",
      "metadata": {
        "colab": {
          "base_uri": "https://localhost:8080/"
        },
        "id": "w60tJXyK4GtL",
        "outputId": "64d2c187-6a72-42ca-9e1f-5649e5ce69ed"
      },
      "source": [
        ""
      ],
      "execution_count": null,
      "outputs": [
        {
          "output_type": "execute_result",
          "data": {
            "text/plain": [
              "array([[1., 0., 0.],\n",
              "       [0., 1., 0.],\n",
              "       [0., 0., 1.]])"
            ]
          },
          "metadata": {},
          "execution_count": 24
        }
      ]
    },
    {
      "cell_type": "code",
      "metadata": {
        "colab": {
          "base_uri": "https://localhost:8080/"
        },
        "id": "R10s-q3R4jfS",
        "outputId": "b5e120a8-ed69-4ebd-adf2-3f6da69b4b86"
      },
      "source": [
        "##Python program to inverse a 3x3 Matrix A = ([6,1,1],[4,-2,5],[2,8,7])\n",
        "\n",
        "A = np.array([[6,1,1],[4,-2,5],[2,8,7]])\n",
        "\n",
        "B = (np.linalg.inv(A))\n",
        "print(B)\n",
        "\n"
      ],
      "execution_count": null,
      "outputs": [
        {
          "output_type": "stream",
          "name": "stdout",
          "text": [
            "[[ 0.17647059 -0.00326797 -0.02287582]\n",
            " [ 0.05882353 -0.13071895  0.08496732]\n",
            " [-0.11764706  0.1503268   0.05228758]]\n"
          ]
        }
      ]
    },
    {
      "cell_type": "code",
      "metadata": {
        "colab": {
          "base_uri": "https://localhost:8080/"
        },
        "id": "fgUHdFdT7gf3",
        "outputId": "4000966e-3320-4d51-a8e0-91babfdd0139"
      },
      "source": [
        "prd = np.dot(A,B)\n",
        "print(prd)"
      ],
      "execution_count": null,
      "outputs": [
        {
          "output_type": "stream",
          "name": "stdout",
          "text": [
            "[[ 1.00000000e+00  0.00000000e+00  2.77555756e-17]\n",
            " [-1.38777878e-17  1.00000000e+00  1.38777878e-17]\n",
            " [-4.16333634e-17  1.38777878e-16  1.00000000e+00]]\n"
          ]
        }
      ]
    },
    {
      "cell_type": "code",
      "metadata": {
        "colab": {
          "base_uri": "https://localhost:8080/"
        },
        "id": "VYAogx8KDjfv",
        "outputId": "226526ba-1c1f-403d-9092-f8d0836c75ae"
      },
      "source": [
        "##Python Program to Inverse a 3x3 Matrix A = ([6,1,1],[4,-2,5],[2,8,7])\n",
        "A = np.array([[6,1,1],[4,-2,5],[2,8,7]])\n",
        "print(A,\"\\n\")\n",
        "B = np.transpose(A)\n",
        "print(B)"
      ],
      "execution_count": 47,
      "outputs": [
        {
          "output_type": "stream",
          "name": "stdout",
          "text": [
            "[[ 6  1  1]\n",
            " [ 4 -2  5]\n",
            " [ 2  8  7]] \n",
            "\n",
            "[[ 6  4  2]\n",
            " [ 1 -2  8]\n",
            " [ 1  5  7]]\n"
          ]
        }
      ]
    },
    {
      "cell_type": "markdown",
      "metadata": {
        "id": "526nrDej-tsf"
      },
      "source": [
        "#Coding Activity 3"
      ]
    },
    {
      "cell_type": "code",
      "metadata": {
        "id": "wnQZnJbQ8ud3",
        "colab": {
          "base_uri": "https://localhost:8080/"
        },
        "outputId": "63a1138e-32d6-45af-9a06-398124783118"
      },
      "source": [
        "# Create a Python Program to inverse and transpose a 4x4 matrix, A = ( [6,1,1,3],[4,-2,5,1],[2,8,7,6],[3,1,9,7] )\n",
        "\n",
        "print(\"Inverse\")\n",
        "invA = np.array([[6,1,1,3],[4,-2,5,1],[2,8,7,6],[3,1,9,7]])\n",
        "inA = (np.linalg.inv(invA))\n",
        "print(inA)\n",
        "\n",
        "print(\"_-_-_-_-_-_-_-_-_-_-_-_-_-_-_-_-_-_-_-_-_-_-_-_-_-_-_\")\n",
        "\n",
        "print(\"Transpose\")\n",
        "trA = np.array([[6,1,1,3],[4,-2,5,1],[2,8,7,6],[3,1,9,7]])\n",
        "print(trA)"
      ],
      "execution_count": 46,
      "outputs": [
        {
          "output_type": "stream",
          "name": "stdout",
          "text": [
            "Inverse\n",
            "[[ 0.13368984  0.10695187  0.02139037 -0.09090909]\n",
            " [-0.00229183  0.02673797  0.14820474 -0.12987013]\n",
            " [-0.12987013  0.18181818  0.06493506 -0.02597403]\n",
            " [ 0.11000764 -0.28342246 -0.11382735  0.23376623]]\n",
            "_-_-_-_-_-_-_-_-_-_-_-_-_-_-_-_-_-_-_-_-_-_-_-_-_-_-_\n",
            "Transpose\n",
            "[[ 6  1  1  3]\n",
            " [ 4 -2  5  1]\n",
            " [ 2  8  7  6]\n",
            " [ 3  1  9  7]]\n"
          ]
        }
      ]
    }
  ]
}
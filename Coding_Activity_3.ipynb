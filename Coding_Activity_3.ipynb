{
  "nbformat": 4,
  "nbformat_minor": 0,
  "metadata": {
    "colab": {
      "name": "Coding Activity 3",
      "provenance": [],
      "authorship_tag": "ABX9TyMtLMpB1pKh574qetqiBT2U",
      "include_colab_link": true
    },
    "kernelspec": {
      "name": "python3",
      "display_name": "Python 3"
    },
    "language_info": {
      "name": "python"
    }
  },
  "cells": [
    {
      "cell_type": "markdown",
      "metadata": {
        "id": "view-in-github",
        "colab_type": "text"
      },
      "source": [
        "<a href=\"https://colab.research.google.com/github/dnldes/Linear-Algebra-58019/blob/main/Coding_Activity_3.ipynb\" target=\"_parent\"><img src=\"https://colab.research.google.com/assets/colab-badge.svg\" alt=\"Open In Colab\"/></a>"
      ]
    },
    {
      "cell_type": "code",
      "metadata": {
        "colab": {
          "base_uri": "https://localhost:8080/"
        },
        "id": "CImb6V2hPKff",
        "outputId": "2e3e6363-b87d-4e6f-a31b-360a6a314a0c"
      },
      "source": [
        "import numpy as np\n",
        "\n",
        "A = np.array([[4,10,8],[10,26,26],[8,26,61]])\n",
        "inv_A = np.linalg.inv(A)\n",
        "print(A)\n",
        "print()\n",
        "print(inv_A)\n",
        "\n",
        "B = np.array([[44],[128],[214]])\n",
        "print()\n",
        "print(B)\n",
        "\n",
        "X = np.linalg.inv(A).dot(B)\n",
        "print()\n",
        "print(X)\n",
        "\n",
        "print()\n",
        "Z = np.dot(A,X)\n",
        "print(Z)\n"
      ],
      "execution_count": 7,
      "outputs": [
        {
          "output_type": "stream",
          "name": "stdout",
          "text": [
            "[[ 4 10  8]\n",
            " [10 26 26]\n",
            " [ 8 26 61]]\n",
            "\n",
            "[[ 25.27777778 -11.16666667   1.44444444]\n",
            " [-11.16666667   5.          -0.66666667]\n",
            " [  1.44444444  -0.66666667   0.11111111]]\n",
            "\n",
            "[[ 44]\n",
            " [128]\n",
            " [214]]\n",
            "\n",
            "[[-8.]\n",
            " [ 6.]\n",
            " [ 2.]]\n",
            "\n",
            "[[ 44.]\n",
            " [128.]\n",
            " [214.]]\n"
          ]
        }
      ]
    }
  ]
}
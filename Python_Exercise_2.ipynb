{
  "nbformat": 4,
  "nbformat_minor": 0,
  "metadata": {
    "colab": {
      "name": "Python Exercise 2.ipynb",
      "provenance": [],
      "authorship_tag": "ABX9TyM93zbkKAdd5BQGG+L//crC",
      "include_colab_link": true
    },
    "kernelspec": {
      "name": "python3",
      "display_name": "Python 3"
    },
    "language_info": {
      "name": "python"
    }
  },
  "cells": [
    {
      "cell_type": "markdown",
      "metadata": {
        "id": "view-in-github",
        "colab_type": "text"
      },
      "source": [
        "<a href=\"https://colab.research.google.com/github/dnldes/Linear-Algebra-58019/blob/main/Python_Exercise_2.ipynb\" target=\"_parent\"><img src=\"https://colab.research.google.com/assets/colab-badge.svg\" alt=\"Open In Colab\"/></a>"
      ]
    },
    {
      "cell_type": "markdown",
      "metadata": {
        "id": "lraRQIJNnw1U"
      },
      "source": [
        "# Representing Vectors\n"
      ]
    },
    {
      "cell_type": "code",
      "metadata": {
        "colab": {
          "base_uri": "https://localhost:8080/"
        },
        "id": "viM6nWaPnxkZ",
        "outputId": "26a74e13-acad-456a-f3c3-131b5301a32d"
      },
      "source": [
        "import numpy as np\n",
        "\n",
        "A = np.array([4,3])\n",
        "B = np.array([2,-5])\n",
        "\n",
        "print('Vector A is', A)\n",
        "print('Vector B is', B)"
      ],
      "execution_count": 2,
      "outputs": [
        {
          "output_type": "stream",
          "name": "stdout",
          "text": [
            "Vector A is [4 3]\n",
            "Vector B is [ 2 -5]\n"
          ]
        }
      ]
    },
    {
      "cell_type": "markdown",
      "metadata": {
        "id": "-sEmrYuYo8Mv"
      },
      "source": [
        "# Describing Vectors in numpy"
      ]
    },
    {
      "cell_type": "code",
      "metadata": {
        "colab": {
          "base_uri": "https://localhost:8080/"
        },
        "id": "88E42o6vpAeQ",
        "outputId": "12b3a006-3b45-4129-ca3c-1c68a6adeb69"
      },
      "source": [
        "import numpy as np\n",
        "\n",
        "ball1 = np.array([1,2,3])\n",
        "ball2 = np.array([0,1,-1])\n",
        "\n",
        "pool = np.array([ball1,ball2])\n",
        "pool.shape\n",
        "pool.ndim"
      ],
      "execution_count": 7,
      "outputs": [
        {
          "output_type": "execute_result",
          "data": {
            "text/plain": [
              "2"
            ]
          },
          "metadata": {},
          "execution_count": 7
        }
      ]
    },
    {
      "cell_type": "code",
      "metadata": {
        "colab": {
          "base_uri": "https://localhost:8080/"
        },
        "id": "D5QXAl1Dqovz",
        "outputId": "af1c9546-2369-4ed4-ab3e-7a5826b4bec4"
      },
      "source": [
        "U = np.array ([[1,2,3],[4,5,6]])\n",
        "U"
      ],
      "execution_count": 9,
      "outputs": [
        {
          "output_type": "execute_result",
          "data": {
            "text/plain": [
              "array([[1, 2, 3],\n",
              "       [4, 5, 6]])"
            ]
          },
          "metadata": {},
          "execution_count": 9
        }
      ]
    },
    {
      "cell_type": "markdown",
      "metadata": {
        "id": "9HsBqoA5sfVQ"
      },
      "source": [
        "# Space"
      ]
    },
    {
      "cell_type": "markdown",
      "metadata": {
        "id": "5mX4jJlYtd4B"
      },
      "source": [
        "### Vector spaces are mathematical objects taht abstractly capture the geometry and algebra of linear equations"
      ]
    },
    {
      "cell_type": "markdown",
      "metadata": {
        "id": "vtj83Ma9tf0K"
      },
      "source": [
        "## Addition of Vectors"
      ]
    },
    {
      "cell_type": "code",
      "metadata": {
        "colab": {
          "base_uri": "https://localhost:8080/"
        },
        "id": "Olg3w9e2tmLQ",
        "outputId": "924cdede-9f09-46b6-8202-138485e47578"
      },
      "source": [
        "addend1 = np.array([0,0,0])\n",
        "addend2 = np.array([1,1,0])\n",
        "sum = addend1 + addend2 \n",
        "print(sum)"
      ],
      "execution_count": 10,
      "outputs": [
        {
          "output_type": "stream",
          "name": "stdout",
          "text": [
            "[1 1 0]\n"
          ]
        }
      ]
    },
    {
      "cell_type": "code",
      "metadata": {
        "colab": {
          "base_uri": "https://localhost:8080/"
        },
        "id": "5ixYc4HyuAX4",
        "outputId": "acea10d4-4b24-4416-9f63-5e2b2e6bc92e"
      },
      "source": [
        "addend1 = np.array([0,0,0])\n",
        "addend2 = np.array([1,1,0])\n",
        "Resultant = np.add(addend1,addend2)\n",
        "Resultant"
      ],
      "execution_count": 17,
      "outputs": [
        {
          "output_type": "execute_result",
          "data": {
            "text/plain": [
              "array([1, 1, 0])"
            ]
          },
          "metadata": {},
          "execution_count": 17
        }
      ]
    },
    {
      "cell_type": "markdown",
      "metadata": {
        "id": "FSkPnA6xvEPO"
      },
      "source": [
        "# Subtraction of Vectors\n"
      ]
    },
    {
      "cell_type": "code",
      "metadata": {
        "colab": {
          "base_uri": "https://localhost:8080/"
        },
        "id": "Qj2vRtM0vIQw",
        "outputId": "ecf9accd-f5f3-4b63-c5cb-a63aefe46e08"
      },
      "source": [
        "#Subtract addend2 from addend1 : addend1-addend2\n",
        "\n",
        "addend1 = np.array([0,0,0])\n",
        "addend2 = np.array([1,1,0])\n",
        "Subtract = addend1 - addend2 \n",
        "Subtract"
      ],
      "execution_count": 18,
      "outputs": [
        {
          "output_type": "execute_result",
          "data": {
            "text/plain": [
              "array([-1, -1,  0])"
            ]
          },
          "metadata": {},
          "execution_count": 18
        }
      ]
    },
    {
      "cell_type": "code",
      "metadata": {
        "colab": {
          "base_uri": "https://localhost:8080/"
        },
        "id": "bETvczZLwNAU",
        "outputId": "ce8a07fb-28cc-41c9-b43f-bb8aaef3650d"
      },
      "source": [
        "difference2 = np.subtract(addend1,addend2)\n",
        "difference2 "
      ],
      "execution_count": 19,
      "outputs": [
        {
          "output_type": "execute_result",
          "data": {
            "text/plain": [
              "array([-1, -1,  0])"
            ]
          },
          "metadata": {},
          "execution_count": 19
        }
      ]
    },
    {
      "cell_type": "markdown",
      "metadata": {
        "id": "aTdFPqUbwaCL"
      },
      "source": [
        "### Scaling"
      ]
    },
    {
      "cell_type": "code",
      "metadata": {
        "colab": {
          "base_uri": "https://localhost:8080/"
        },
        "id": "_mhQR-YTwb5Y",
        "outputId": "7f26066e-471a-4737-de69-5c3ce9c343ca"
      },
      "source": [
        "A = np.array([1,5,8,9])\n",
        "S = 5*A\n",
        "S"
      ],
      "execution_count": 20,
      "outputs": [
        {
          "output_type": "execute_result",
          "data": {
            "text/plain": [
              "array([ 5, 25, 40, 45])"
            ]
          },
          "metadata": {},
          "execution_count": 20
        }
      ]
    },
    {
      "cell_type": "markdown",
      "metadata": {
        "id": "2Ciihx6Qx-8_"
      },
      "source": [
        "### Cross Product"
      ]
    },
    {
      "cell_type": "code",
      "metadata": {
        "colab": {
          "base_uri": "https://localhost:8080/"
        },
        "id": "ii923j2tyBCC",
        "outputId": "c2b5e5b5-befc-4bdf-9430-4b7e06282376"
      },
      "source": [
        "A = np.array([2,3,4])\n",
        "B = np.array([1,7,1])\n",
        "#Compute cross product of A and B\n",
        "cross = np.cross(A,B)\n",
        "print(cross)"
      ],
      "execution_count": 23,
      "outputs": [
        {
          "output_type": "stream",
          "name": "stdout",
          "text": [
            "[-25   2  11]\n"
          ]
        }
      ]
    }
  ]
}
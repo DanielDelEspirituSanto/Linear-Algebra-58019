{
  "nbformat": 4,
  "nbformat_minor": 0,
  "metadata": {
    "colab": {
      "name": "Python Exercise 1",
      "provenance": [],
      "authorship_tag": "ABX9TyPQdmNusPh23lSRR26rv8ok",
      "include_colab_link": true
    },
    "kernelspec": {
      "name": "python3",
      "display_name": "Python 3"
    },
    "language_info": {
      "name": "python"
    }
  },
  "cells": [
    {
      "cell_type": "markdown",
      "metadata": {
        "id": "view-in-github",
        "colab_type": "text"
      },
      "source": [
        "<a href=\"https://colab.research.google.com/github/dnldes/Linear-Algebra-58019/blob/main/Python_Exercise_1.ipynb\" target=\"_parent\"><img src=\"https://colab.research.google.com/assets/colab-badge.svg\" alt=\"Open In Colab\"/></a>"
      ]
    },
    {
      "cell_type": "markdown",
      "metadata": {
        "id": "xEsiiASl71TP"
      },
      "source": [
        "Matrix and Its Operations"
      ]
    },
    {
      "cell_type": "code",
      "metadata": {
        "colab": {
          "base_uri": "https://localhost:8080/"
        },
        "id": "OkM8pmcd7zc4",
        "outputId": "b00412d0-127b-4202-c700-53b84530b2d8"
      },
      "source": [
        "#numpy\n",
        "import numpy as np\n",
        "A = np.array([-5,0,4,1])\n",
        "B = np.array([6,-3,2,3])\n",
        "print(A+B)"
      ],
      "execution_count": 3,
      "outputs": [
        {
          "output_type": "stream",
          "name": "stdout",
          "text": [
            "[ 1 -3  6  4]\n"
          ]
        }
      ]
    },
    {
      "cell_type": "code",
      "metadata": {
        "colab": {
          "base_uri": "https://localhost:8080/"
        },
        "id": "xzuqQZtB8jiA",
        "outputId": "72589367-6df1-41f6-d596-2c39da6589e5"
      },
      "source": [
        "#numpy\n",
        "import numpy as np\n",
        "a = np.array([-5,0,4,1])\n",
        "b = np.array([6,-3,2,3])\n",
        "print(B-A)"
      ],
      "execution_count": 4,
      "outputs": [
        {
          "output_type": "stream",
          "name": "stdout",
          "text": [
            "[11 -3 -2  2]\n"
          ]
        }
      ]
    },
    {
      "cell_type": "code",
      "metadata": {
        "colab": {
          "base_uri": "https://localhost:8080/"
        },
        "id": "FjCcGRNF8vBc",
        "outputId": "ba24bb3d-6ad9-4eff-e66f-475f1297f1b1"
      },
      "source": [
        "#numpy\n",
        "import numpy as np\n",
        "a = np.array([-5,0,4,1])\n",
        "b = np.array([6,-3,2,3])\n",
        "print(A-B)"
      ],
      "execution_count": 5,
      "outputs": [
        {
          "output_type": "stream",
          "name": "stdout",
          "text": [
            "[-11   3   2  -2]\n"
          ]
        }
      ]
    }
  ]
}
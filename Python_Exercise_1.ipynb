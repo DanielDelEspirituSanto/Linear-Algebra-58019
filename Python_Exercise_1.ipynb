{
  "nbformat": 4,
  "nbformat_minor": 0,
  "metadata": {
    "colab": {
      "name": "Python Exercise 1",
      "provenance": [],
      "authorship_tag": "ABX9TyPjaT12xU22LIB12KsTrVox",
      "include_colab_link": true
    },
    "kernelspec": {
      "name": "python3",
      "display_name": "Python 3"
    },
    "language_info": {
      "name": "python"
    }
  },
  "cells": [
    {
      "cell_type": "markdown",
      "metadata": {
        "id": "view-in-github",
        "colab_type": "text"
      },
      "source": [
        "<a href=\"https://colab.research.google.com/github/dnldes/Linear-Algebra-58019/blob/main/Python_Exercise_1.ipynb\" target=\"_parent\"><img src=\"https://colab.research.google.com/assets/colab-badge.svg\" alt=\"Open In Colab\"/></a>"
      ]
    },
    {
      "cell_type": "markdown",
      "metadata": {
        "id": "xEsiiASl71TP"
      },
      "source": [
        "Matrix and Its Operations"
      ]
    },
    {
      "cell_type": "code",
      "metadata": {
        "colab": {
          "base_uri": "https://localhost:8080/"
        },
        "id": "OkM8pmcd7zc4",
        "outputId": "9aa74822-df2e-4424-9fbc-8db94b7469f6"
      },
      "source": [
        "#numpy\n",
        "import numpy as np\n",
        "A = np.array([[-5,0],[4,1]])\n",
        "B = np.array([[6,-3],[2,3]])\n",
        "print(A+B)\n",
        "\n",
        "#sum = A +B"
      ],
      "execution_count": 8,
      "outputs": [
        {
          "output_type": "stream",
          "name": "stdout",
          "text": [
            "[[ 1 -3]\n",
            " [ 6  4]]\n"
          ]
        }
      ]
    },
    {
      "cell_type": "code",
      "metadata": {
        "colab": {
          "base_uri": "https://localhost:8080/"
        },
        "id": "xzuqQZtB8jiA",
        "outputId": "8f500d6b-a881-4dca-825e-c4e11934bb92"
      },
      "source": [
        "#numpy\n",
        "import numpy as np\n",
        "A = np.array([[-5,0],[4,1]])\n",
        "B = np.array([[6,-3],[2,3]])\n",
        "print(B-A)\n",
        "\n",
        "#difference1 = B - A"
      ],
      "execution_count": 9,
      "outputs": [
        {
          "output_type": "stream",
          "name": "stdout",
          "text": [
            "[[11 -3]\n",
            " [-2  2]]\n"
          ]
        }
      ]
    },
    {
      "cell_type": "code",
      "metadata": {
        "colab": {
          "base_uri": "https://localhost:8080/"
        },
        "id": "FjCcGRNF8vBc",
        "outputId": "4d513fcd-c582-4713-cd16-0bce5f5344aa"
      },
      "source": [
        "#numpy\n",
        "import numpy as np\n",
        "A = np.array([[-5,0],[4,1]])\n",
        "B = np.array([[6,-3],[2,3]])\n",
        "print(A-B)\n",
        "\n",
        "#difference2 = A - B"
      ],
      "execution_count": 10,
      "outputs": [
        {
          "output_type": "stream",
          "name": "stdout",
          "text": [
            "[[-11   3]\n",
            " [  2  -2]]\n"
          ]
        }
      ]
    }
  ]
}